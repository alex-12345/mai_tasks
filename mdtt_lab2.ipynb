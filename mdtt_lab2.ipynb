{
 "cells": [
  {
   "cell_type": "markdown",
   "metadata": {
    "id": "Cm1Z_jhKkFMr"
   },
   "source": [
    "# Лабораторная работа 2 (МДТТ) #\r\n"
   ]
  },
  {
   "cell_type": "code",
   "execution_count": 1,
   "metadata": {
    "id": "DnbEyQ6hVs6L"
   },
   "outputs": [],
   "source": [
    "import numpy as np\r\n",
    "import math"
   ]
  },
  {
   "cell_type": "code",
   "execution_count": 2,
   "metadata": {
    "id": "e756A2afVttN"
   },
   "outputs": [],
   "source": [
    "MU = 0.2 #коэф пуассона\r\n",
    "K = 9 #параметр кривизны\r\n",
    "END = 8 #верхняя граница\r\n",
    "\r\n",
    "PI = math.pi\r\n",
    "sin = math.sin"
   ]
  },
  {
   "cell_type": "code",
   "execution_count": 26,
   "metadata": {
    "colab": {
     "base_uri": "https://localhost:8080/"
    },
    "id": "8KDQOtWnVt6Y",
    "outputId": "0e23ca2f-2134-429a-c2cd-cdcbb9b1f7fe"
   },
   "outputs": [
    {
     "name": "stdout",
     "output_type": "stream",
     "text": [
      "Эйлер\n",
      "38.56 0.0044070844630208338863\n",
      "38.57 0.0021420704470275234387\n",
      "38.58 0.00022376981376833838916\n",
      "38.589999999999996 -0.0013011158170372400215\n",
      "38.599999999999994 -0.0023866045281031828608\n",
      "38.60999999999999 -0.002988823333704302958\n",
      "38.61999999999999 -0.00306756635637094143\n",
      "38.62999999999999 -0.0025879609568194172906\n",
      "38.639999999999986 -0.0015221569700921594244\n",
      "Рунге-Кутта\n",
      "38.42 0.001946309658069922957\n",
      "38.43 0.00076929608970554018803\n",
      "38.44 -0.00023346806651158092011\n",
      "38.449999999999996 -0.0010444304696042446796\n",
      "38.459999999999994 -0.0016457115734668376023\n",
      "38.46999999999999 -0.0020193025276632725528\n",
      "38.47999999999999 -0.0021472977245748759487\n",
      "38.48999999999999 -0.0020121615243392979264\n"
     ]
    }
   ],
   "source": [
    "W = []\r\n",
    "Z = []\r\n",
    "\r\n",
    "W_s, Z_s = [],[]\r\n",
    "\r\n",
    "def init_reset():\r\n",
    "    global W, Z, W_s, Z_s\r\n",
    "    W = np.zeros((END,END),dtype='float128')\r\n",
    "    Z = np.zeros((END,END),dtype='float128')\r\n",
    "    W_s = np.zeros((END,END, 4),dtype='float128')\r\n",
    "    Z_s = np.zeros((END,END, 4),dtype='float128')\r\n",
    "    \r\n",
    "def alpha():\r\n",
    "    l, r = 0, 0\r\n",
    "    for i in range(1, END):\r\n",
    "        for j in range(1, END):\r\n",
    "            l+= (i**2) * (W[i][j]**2)\r\n",
    "            \r\n",
    "    for i in range(1, END, 2):\r\n",
    "        for j in range(1, END, 2):\r\n",
    "            r+=W[i][j]/(i*j)\r\n",
    "            \r\n",
    "    return 3*(K**2)*(1+MU) * ((PI**2)/2*l - 16/(PI**2) *r)\r\n",
    "\r\n",
    "def delta(i, j): \r\n",
    "    return int(i % 2 == 1 and j % 2 == 1)\r\n",
    "\r\n",
    "def wij_tau(zij):\r\n",
    "    return zij\r\n",
    "\r\n",
    "def zij_tau(q, wij, i, j):\r\n",
    "    return (q+ 2*alpha()) * 16 /(PI**2 * i**2 * j**2) * delta(i, j) - PI**2 *(i**2 + j**2)*(alpha() + PI**2 * (i**2 + j**2))* wij\r\n",
    "\r\n",
    "def euler(q, h):\r\n",
    "    for k in range(1000):\r\n",
    "        for i in range(1,END, 2):\r\n",
    "            for j in range(1,END,2):\r\n",
    "                Z[i][j] += h * zij_tau(q, W[i][j], i, j)\r\n",
    "                W[i][j] += h * wij_tau(Z[i][j])\r\n",
    "    \r\n",
    "    \r\n",
    "def rk4(q, h, r = 1000):\r\n",
    "    global W,Z\r\n",
    "    for k in range(r):\r\n",
    "        for i in range(1,END):\r\n",
    "            for j in range(1,END):\r\n",
    "                k1 = h * wij_tau(Z[i][j])\r\n",
    "                m1 = h * zij_tau(q, W[i][j], i, j)\r\n",
    "                k2 = h * wij_tau((Z[i][j] + m1/2))\r\n",
    "                m2 = h * zij_tau(q, (W[i][j] + k1/2), i, j)\r\n",
    "                k3 = h * wij_tau((Z[i][j] + m2/2))\r\n",
    "                m3 = h * zij_tau(q, (W[i][j] + k2/2), i, j)\r\n",
    "                k4 = h * wij_tau((Z[i][j]+m3))\r\n",
    "                m4 = h * zij_tau(q, (W[i][j] + k3), i, j)\r\n",
    "                W[i][j] += (k1+k2+k3+k4)/6\r\n",
    "                Z[i][j] += (m1+m2+m3+m4)/6\r\n",
    "                if r == 4:\r\n",
    "                    W_s[i][j][k] = W[i][j]\r\n",
    "                    Z_s[i][j][k] = Z[i][j]\r\n",
    "    \r\n",
    "                    \r\n",
    "def ab4(q, h):\r\n",
    "    k = 4\r\n",
    "    rk4(q,h,4)\r\n",
    "    f = zij_tau\r\n",
    "    g = wij_tau\r\n",
    "    \r\n",
    "    for hh in range(k-1, 1000):\r\n",
    "        for i in range(1,END, 2):\r\n",
    "            for j in range(1,END, 2):\r\n",
    "                Z[i][j] += (0.1*h)*(55/24*f(q, W_s[i][j][3], i, j) - 59/24*f(q, W_s[i][j][2], i, j) + 37/24*f(q, W_s[i][j][1], i, j) - 9/24*f(q, W_s[i][j][0], i, j))\r\n",
    "                Z_s[i][j][0], Z_s[i][j][1], Z_s[i][j][2], Z_s[i][j][3] = Z_s[i][j][1], Z_s[i][j][2], Z_s[i][j][3], Z[i][j]\r\n",
    "                \r\n",
    "                \r\n",
    "                W[i][j] += (0.1*h)*(55/24*g(Z_s[i][j][3]) - 59/24*g(Z_s[i][j][2]) + 37/24*g(Z_s[i][j][1]) - 9/24*g(Z_s[i][j][0]))\r\n",
    "                W_s[i][j][0], W_s[i][j][1], W_s[i][j][2], W_s[i][j][3] = W_s[i][j][1], W_s[i][j][2], W_s[i][j][3], W[i][j]\r\n",
    "    \r\n",
    "    \r\n",
    "def compute(method, range_q, h):\r\n",
    "    \r\n",
    "    for q in range_q:\r\n",
    "        init_reset()\r\n",
    "        method(q, h)\r\n",
    "        w0 = 0\r\n",
    "        for i in range(1,END, 2):\r\n",
    "            for j in range(1,END, 2):\r\n",
    "                w0+=W[i][j]*sin(i*PI/2)*sin(j*PI/2)\r\n",
    "        print(q, w0)\r\n",
    "                \r\n",
    "h = 0.001\r\n",
    "\r\n",
    "print(\"Эйлер\")\r\n",
    "compute(euler, np.arange(38.56, 38.65, 0.01), h)\r\n",
    "print(\"Рунге-Кутта\")\r\n",
    "compute(rk4, np.arange(38.42, 38.50, 0.01), h)\r\n",
    "# print(\"Адамс — Башфорт\")\r\n",
    "# compute(ab4, np.arange(39, 41, 0.01), h)"
   ]
  }
 ],
 "metadata": {
  "colab": {
   "collapsed_sections": [],
   "name": "mdtt_lab2.ipynb",
   "provenance": []
  },
  "kernelspec": {
   "display_name": "Python 3",
   "language": "python",
   "name": "python3"
  },
  "language_info": {
   "codemirror_mode": {
    "name": "ipython",
    "version": 3
   },
   "file_extension": ".py",
   "mimetype": "text/x-python",
   "name": "python",
   "nbconvert_exporter": "python",
   "pygments_lexer": "ipython3",
   "version": "3.8.2"
  }
 },
 "nbformat": 4,
 "nbformat_minor": 4
}
