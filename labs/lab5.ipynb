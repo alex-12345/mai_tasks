{
 "cells": [
  {
   "cell_type": "markdown",
   "metadata": {},
   "source": [
    "# Лабораторная работа №5 #"
   ]
  },
  {
   "cell_type": "markdown",
   "metadata": {},
   "source": [
    "Получить от объекта Series показатели описательной статистики"
   ]
  },
  {
   "cell_type": "code",
   "execution_count": 1,
   "metadata": {},
   "outputs": [
    {
     "data": {
      "text/plain": [
       "count    4.00\n",
       "mean     3.75\n",
       "std      2.50\n",
       "min      1.00\n",
       "25%      2.50\n",
       "50%      3.50\n",
       "75%      4.75\n",
       "max      7.00\n",
       "dtype: float64"
      ]
     },
     "execution_count": 1,
     "metadata": {},
     "output_type": "execute_result"
    }
   ],
   "source": [
    "import pandas as pd\n",
    "import numpy as np\n",
    "import matplotlib.pyplot as plt\n",
    " \n",
    "ser1 = pd.Series([1,3,4,7])\n",
    "ser1.describe()"
   ]
  },
  {
   "cell_type": "markdown",
   "metadata": {},
   "source": [
    "Узнать частоту уникальных элементов объекта Series (гистограмма)"
   ]
  },
  {
   "cell_type": "code",
   "execution_count": 2,
   "metadata": {},
   "outputs": [
    {
     "name": "stdout",
     "output_type": "stream",
     "text": [
      "[4 3 1 4 4 0 0 0 1 2 4 1 4 0 3 0 2 0 4 4 1 0 0 2 1 2 1 4 4 0 0 2 0 4 2 4 1\n",
      " 1 0 1 0 2 2 4 4 3 0 0 1 3]\n"
     ]
    },
    {
     "data": {
      "text/plain": [
       "<BarContainer object of 5 artists>"
      ]
     },
     "execution_count": 2,
     "metadata": {},
     "output_type": "execute_result"
    },
    {
     "data": {
      "image/png": "[encoded data removed]",
      "text/plain": [
       "<Figure size 432x288 with 1 Axes>"
      ]
     },
     "metadata": {
      "needs_background": "light"
     },
     "output_type": "display_data"
    }
   ],
   "source": [
    "arr1 = np.random.randint(0,5,50)\n",
    "ser2 = pd.Series(arr1)\n",
    " \n",
    "freq = ser2.value_counts()\n",
    "print(arr1)\n",
    "plt.bar(freq.index, freq.values)"
   ]
  },
  {
   "cell_type": "markdown",
   "metadata": {},
   "source": [
    "Заменить все элементы объекта Series на \"Other\", кроме двух наиболее часто встречающихся"
   ]
  },
  {
   "cell_type": "code",
   "execution_count": 3,
   "metadata": {},
   "outputs": [
    {
     "name": "stdout",
     "output_type": "stream",
     "text": [
      "2    6\n",
      "3    5\n",
      "4    3\n",
      "1    3\n",
      "0    3\n",
      "dtype: int64\n",
      "0     Other\n",
      "1         2\n",
      "2     Other\n",
      "3     Other\n",
      "4     Other\n",
      "5     Other\n",
      "6     Other\n",
      "7     Other\n",
      "8         3\n",
      "9         2\n",
      "10        2\n",
      "11    Other\n",
      "12        2\n",
      "13        2\n",
      "14    Other\n",
      "15        3\n",
      "16        2\n",
      "17        3\n",
      "18        3\n",
      "19        3\n",
      "dtype: object\n"
     ]
    }
   ],
   "source": [
    "arr2 = np.random.randint(0,5,20)\n",
    "ser3 = pd.Series(arr2)\n",
    "\n",
    "print(ser3.value_counts())\n",
    "ser3[~ser3.isin(ser3.value_counts().index[:2])] = 'Other'\n",
    "print(ser3)"
   ]
  },
  {
   "cell_type": "markdown",
   "metadata": {},
   "source": [
    "Создать объект Series в индексах дата каждый день 2019 года, в значениях случайное значение"
   ]
  },
  {
   "cell_type": "code",
   "execution_count": 4,
   "metadata": {},
   "outputs": [
    {
     "data": {
      "text/plain": [
       "2018-01-01    0.808152\n",
       "2018-01-02    0.555906\n",
       "2018-01-03    0.797703\n",
       "2018-01-04    0.984798\n",
       "2018-01-05    0.909093\n",
       "                ...   \n",
       "2018-12-27    0.043222\n",
       "2018-12-28    0.007214\n",
       "2018-12-29    0.062499\n",
       "2018-12-30    0.178150\n",
       "2018-12-31    0.937529\n",
       "Freq: D, Length: 365, dtype: float64"
      ]
     },
     "execution_count": 4,
     "metadata": {},
     "output_type": "execute_result"
    }
   ],
   "source": [
    "arr3_dates = pd.date_range(start='2018-01-01', end='2018-12-31', freq='D')\n",
    "ser4_dates = pd.Series(np.random.rand(len(arr3_dates)), index=arr3_dates)\n",
    "ser4_dates"
   ]
  },
  {
   "cell_type": "markdown",
   "metadata": {},
   "source": [
    "Найти сумму всех вторников"
   ]
  },
  {
   "cell_type": "code",
   "execution_count": 5,
   "metadata": {},
   "outputs": [
    {
     "data": {
      "text/plain": [
       "24.80634880087927"
      ]
     },
     "execution_count": 5,
     "metadata": {},
     "output_type": "execute_result"
    }
   ],
   "source": [
    "ser4_dates[ser4_dates.index.weekday == 2].sum()"
   ]
  },
  {
   "cell_type": "markdown",
   "metadata": {},
   "source": [
    "Для каждого месяца найти среднее значение"
   ]
  },
  {
   "cell_type": "code",
   "execution_count": 6,
   "metadata": {},
   "outputs": [
    {
     "data": {
      "text/plain": [
       "2018-01-31    0.501992\n",
       "2018-02-28    0.554614\n",
       "2018-03-31    0.475397\n",
       "2018-04-30    0.453275\n",
       "2018-05-31    0.447354\n",
       "2018-06-30    0.506677\n",
       "2018-07-31    0.625021\n",
       "2018-08-31    0.554392\n",
       "2018-09-30    0.500800\n",
       "2018-10-31    0.527302\n",
       "2018-11-30    0.485585\n",
       "2018-12-31    0.424627\n",
       "Freq: M, dtype: float64"
      ]
     },
     "execution_count": 6,
     "metadata": {},
     "output_type": "execute_result"
    }
   ],
   "source": [
    "ser4_dates.resample('M').mean()"
   ]
  },
  {
   "cell_type": "markdown",
   "metadata": {},
   "source": [
    "Преобразовать объект Series в DataFrame заданной формы (shape)"
   ]
  },
  {
   "cell_type": "code",
   "execution_count": 7,
   "metadata": {},
   "outputs": [
    {
     "data": {
      "text/html": [
       "<div>\n",
       "<style scoped>\n",
       "    .dataframe tbody tr th:only-of-type {\n",
       "        vertical-align: middle;\n",
       "    }\n",
       "\n",
       "    .dataframe tbody tr th {\n",
       "        vertical-align: top;\n",
       "    }\n",
       "\n",
       "    .dataframe thead th {\n",
       "        text-align: right;\n",
       "    }\n",
       "</style>\n",
       "<table border=\"1\" class=\"dataframe\">\n",
       "  <thead>\n",
       "    <tr style=\"text-align: right;\">\n",
       "      <th></th>\n",
       "      <th>0</th>\n",
       "      <th>1</th>\n",
       "      <th>2</th>\n",
       "      <th>3</th>\n",
       "      <th>4</th>\n",
       "      <th>5</th>\n",
       "      <th>6</th>\n",
       "      <th>7</th>\n",
       "      <th>8</th>\n",
       "      <th>9</th>\n",
       "    </tr>\n",
       "  </thead>\n",
       "  <tbody>\n",
       "    <tr>\n",
       "      <th>0</th>\n",
       "      <td>8</td>\n",
       "      <td>3</td>\n",
       "      <td>9</td>\n",
       "      <td>3</td>\n",
       "      <td>9</td>\n",
       "      <td>3</td>\n",
       "      <td>3</td>\n",
       "      <td>2</td>\n",
       "      <td>8</td>\n",
       "      <td>0</td>\n",
       "    </tr>\n",
       "    <tr>\n",
       "      <th>1</th>\n",
       "      <td>1</td>\n",
       "      <td>9</td>\n",
       "      <td>0</td>\n",
       "      <td>6</td>\n",
       "      <td>8</td>\n",
       "      <td>5</td>\n",
       "      <td>6</td>\n",
       "      <td>7</td>\n",
       "      <td>1</td>\n",
       "      <td>7</td>\n",
       "    </tr>\n",
       "    <tr>\n",
       "      <th>2</th>\n",
       "      <td>8</td>\n",
       "      <td>3</td>\n",
       "      <td>4</td>\n",
       "      <td>3</td>\n",
       "      <td>4</td>\n",
       "      <td>5</td>\n",
       "      <td>9</td>\n",
       "      <td>2</td>\n",
       "      <td>2</td>\n",
       "      <td>1</td>\n",
       "    </tr>\n",
       "    <tr>\n",
       "      <th>3</th>\n",
       "      <td>8</td>\n",
       "      <td>4</td>\n",
       "      <td>6</td>\n",
       "      <td>0</td>\n",
       "      <td>2</td>\n",
       "      <td>2</td>\n",
       "      <td>8</td>\n",
       "      <td>8</td>\n",
       "      <td>9</td>\n",
       "      <td>0</td>\n",
       "    </tr>\n",
       "    <tr>\n",
       "      <th>4</th>\n",
       "      <td>8</td>\n",
       "      <td>3</td>\n",
       "      <td>0</td>\n",
       "      <td>7</td>\n",
       "      <td>4</td>\n",
       "      <td>9</td>\n",
       "      <td>6</td>\n",
       "      <td>3</td>\n",
       "      <td>5</td>\n",
       "      <td>0</td>\n",
       "    </tr>\n",
       "    <tr>\n",
       "      <th>5</th>\n",
       "      <td>2</td>\n",
       "      <td>7</td>\n",
       "      <td>1</td>\n",
       "      <td>5</td>\n",
       "      <td>3</td>\n",
       "      <td>9</td>\n",
       "      <td>9</td>\n",
       "      <td>7</td>\n",
       "      <td>3</td>\n",
       "      <td>4</td>\n",
       "    </tr>\n",
       "    <tr>\n",
       "      <th>6</th>\n",
       "      <td>0</td>\n",
       "      <td>5</td>\n",
       "      <td>5</td>\n",
       "      <td>4</td>\n",
       "      <td>4</td>\n",
       "      <td>9</td>\n",
       "      <td>7</td>\n",
       "      <td>6</td>\n",
       "      <td>9</td>\n",
       "      <td>4</td>\n",
       "    </tr>\n",
       "    <tr>\n",
       "      <th>7</th>\n",
       "      <td>2</td>\n",
       "      <td>3</td>\n",
       "      <td>8</td>\n",
       "      <td>6</td>\n",
       "      <td>3</td>\n",
       "      <td>5</td>\n",
       "      <td>1</td>\n",
       "      <td>9</td>\n",
       "      <td>7</td>\n",
       "      <td>6</td>\n",
       "    </tr>\n",
       "    <tr>\n",
       "      <th>8</th>\n",
       "      <td>7</td>\n",
       "      <td>6</td>\n",
       "      <td>0</td>\n",
       "      <td>3</td>\n",
       "      <td>3</td>\n",
       "      <td>0</td>\n",
       "      <td>8</td>\n",
       "      <td>8</td>\n",
       "      <td>7</td>\n",
       "      <td>7</td>\n",
       "    </tr>\n",
       "    <tr>\n",
       "      <th>9</th>\n",
       "      <td>2</td>\n",
       "      <td>4</td>\n",
       "      <td>6</td>\n",
       "      <td>1</td>\n",
       "      <td>1</td>\n",
       "      <td>7</td>\n",
       "      <td>9</td>\n",
       "      <td>3</td>\n",
       "      <td>0</td>\n",
       "      <td>4</td>\n",
       "    </tr>\n",
       "    <tr>\n",
       "      <th>10</th>\n",
       "      <td>5</td>\n",
       "      <td>2</td>\n",
       "      <td>2</td>\n",
       "      <td>5</td>\n",
       "      <td>9</td>\n",
       "      <td>7</td>\n",
       "      <td>9</td>\n",
       "      <td>2</td>\n",
       "      <td>0</td>\n",
       "      <td>2</td>\n",
       "    </tr>\n",
       "  </tbody>\n",
       "</table>\n",
       "</div>"
      ],
      "text/plain": [
       "    0  1  2  3  4  5  6  7  8  9\n",
       "0   8  3  9  3  9  3  3  2  8  0\n",
       "1   1  9  0  6  8  5  6  7  1  7\n",
       "2   8  3  4  3  4  5  9  2  2  1\n",
       "3   8  4  6  0  2  2  8  8  9  0\n",
       "4   8  3  0  7  4  9  6  3  5  0\n",
       "5   2  7  1  5  3  9  9  7  3  4\n",
       "6   0  5  5  4  4  9  7  6  9  4\n",
       "7   2  3  8  6  3  5  1  9  7  6\n",
       "8   7  6  0  3  3  0  8  8  7  7\n",
       "9   2  4  6  1  1  7  9  3  0  4\n",
       "10  5  2  2  5  9  7  9  2  0  2"
      ]
     },
     "execution_count": 7,
     "metadata": {},
     "output_type": "execute_result"
    }
   ],
   "source": [
    "weight = 10\n",
    "height = 11\n",
    "\n",
    "ser5 = pd.Series(np.random.randint(0, 10, height*weight))    \n",
    "df1 = pd.DataFrame(ser5.values.reshape(height, weight))\n",
    " \n",
    "df1"
   ]
  },
  {
   "cell_type": "markdown",
   "metadata": {},
   "source": [
    "Найти индексы объекта Series кратные 3"
   ]
  },
  {
   "cell_type": "code",
   "execution_count": 8,
   "metadata": {},
   "outputs": [
    {
     "data": {
      "text/plain": [
       "1      3\n",
       "2      9\n",
       "3      3\n",
       "4      9\n",
       "5      3\n",
       "6      3\n",
       "11     9\n",
       "13     6\n",
       "16     6\n",
       "21     3\n",
       "23     3\n",
       "26     9\n",
       "32     6\n",
       "38     9\n",
       "41     3\n",
       "45     9\n",
       "46     6\n",
       "47     3\n",
       "54     3\n",
       "55     9\n",
       "56     9\n",
       "58     3\n",
       "65     9\n",
       "67     6\n",
       "68     9\n",
       "71     3\n",
       "73     6\n",
       "74     3\n",
       "77     9\n",
       "79     6\n",
       "81     6\n",
       "83     3\n",
       "84     3\n",
       "92     6\n",
       "96     9\n",
       "97     3\n",
       "104    9\n",
       "106    9\n",
       "dtype: int32"
      ]
     },
     "execution_count": 8,
     "metadata": {},
     "output_type": "execute_result"
    }
   ],
   "source": [
    "ser5[(ser5 != 0) & (ser5 % 3 == 0)]"
   ]
  },
  {
   "cell_type": "markdown",
   "metadata": {},
   "source": [
    "Получить данные по индексам объекта Series"
   ]
  },
  {
   "cell_type": "code",
   "execution_count": 9,
   "metadata": {},
   "outputs": [
    {
     "data": {
      "text/plain": [
       "8     8\n",
       "11    9\n",
       "90    2\n",
       "dtype: int32"
      ]
     },
     "execution_count": 9,
     "metadata": {},
     "output_type": "execute_result"
    }
   ],
   "source": [
    "ser5[[8,11,90]]"
   ]
  },
  {
   "cell_type": "markdown",
   "metadata": {},
   "source": [
    "Объединить два объекта Series вертикально и горизонтально"
   ]
  },
  {
   "cell_type": "code",
   "execution_count": 10,
   "metadata": {},
   "outputs": [
    {
     "name": "stdout",
     "output_type": "stream",
     "text": [
      "0    1\n",
      "1    2\n",
      "2    3\n",
      "0    4\n",
      "1    5\n",
      "2    6\n",
      "dtype: int64\n",
      "   0  1\n",
      "0  1  4\n",
      "1  2  5\n",
      "2  3  6\n"
     ]
    }
   ],
   "source": [
    "ser5 = pd.Series([1, 2, 3])\n",
    "ser6 = pd.Series([4, 5, 6])\n",
    "df2 = pd.concat([ser5, ser6])\n",
    "df3 = pd.concat([ser5, ser6], axis=1)\n",
    "print(df2)\n",
    "print(df3)"
   ]
  },
  {
   "cell_type": "markdown",
   "metadata": {},
   "source": [
    "Получить индексы объекта Series A, данные которых содержатся в объетке Series B"
   ]
  },
  {
   "cell_type": "code",
   "execution_count": 11,
   "metadata": {},
   "outputs": [
    {
     "data": {
      "text/plain": [
       "1    1\n",
       "2    2\n",
       "3    3\n",
       "4    4\n",
       "5    5\n",
       "6    6\n",
       "7    7\n",
       "dtype: int32"
      ]
     },
     "execution_count": 11,
     "metadata": {},
     "output_type": "execute_result"
    }
   ],
   "source": [
    "ser7_a = pd.Series(np.arange(10));\n",
    "ser7_b = pd.Series(np.arange(7)+1);\n",
    "ser7_a[(ser7_a.isin(ser7_b))]"
   ]
  },
  {
   "cell_type": "markdown",
   "metadata": {},
   "source": [
    "Получить объект Series B, котоырй содержит элементы без повторений объекта A"
   ]
  },
  {
   "cell_type": "code",
   "execution_count": 12,
   "metadata": {},
   "outputs": [
    {
     "data": {
      "text/plain": [
       "array([0, 1, 2, 3, 4, 5, 6, 7, 8, 9], dtype=int64)"
      ]
     },
     "execution_count": 12,
     "metadata": {},
     "output_type": "execute_result"
    }
   ],
   "source": [
    "ser8_a = ser7_a.append(pd.Series({10:9}))\n",
    "ser8_b=ser8_a.unique()\n",
    "ser8_b"
   ]
  },
  {
   "cell_type": "markdown",
   "metadata": {},
   "source": [
    "Преобразовать каждый символ объекта Series в верхний регистр"
   ]
  },
  {
   "cell_type": "code",
   "execution_count": 13,
   "metadata": {},
   "outputs": [
    {
     "data": {
      "text/plain": [
       "0    PANDAS\n",
       "1       LAB\n",
       "2         5\n",
       "dtype: object"
      ]
     },
     "execution_count": 13,
     "metadata": {},
     "output_type": "execute_result"
    }
   ],
   "source": [
    "ser9 = pd.Series(['Pandas', 'lab', '5'])\n",
    "\n",
    "pd.Series(word.upper() for word in ser9)"
   ]
  },
  {
   "cell_type": "markdown",
   "metadata": {},
   "source": [
    "преобразовать данных Series в строку"
   ]
  },
  {
   "cell_type": "code",
   "execution_count": 14,
   "metadata": {},
   "outputs": [
    {
     "data": {
      "text/plain": [
       "0    Pandas\n",
       "1       lab\n",
       "2         5\n",
       "dtype: object"
      ]
     },
     "execution_count": 14,
     "metadata": {},
     "output_type": "execute_result"
    }
   ],
   "source": [
    "ser9_with_num = pd.Series(['Pandas', 'lab', 5])\n",
    "str_ser9 = pd.Series(str(word) for word in ser9_with_num)\n",
    "str_ser9"
   ]
  },
  {
   "cell_type": "markdown",
   "metadata": {},
   "source": [
    "Рассчитать количество символов в объекте Series"
   ]
  },
  {
   "cell_type": "code",
   "execution_count": 15,
   "metadata": {},
   "outputs": [
    {
     "data": {
      "text/plain": [
       "10"
      ]
     },
     "execution_count": 15,
     "metadata": {},
     "output_type": "execute_result"
    }
   ],
   "source": [
    "np.asarray(str_ser9.map(lambda x: len(x))).sum()"
   ]
  },
  {
   "cell_type": "markdown",
   "metadata": {},
   "source": [
    "преобразовать в строковый тип"
   ]
  },
  {
   "cell_type": "code",
   "execution_count": 16,
   "metadata": {},
   "outputs": [
    {
     "data": {
      "text/plain": [
       "0    Pandas\n",
       "1       lab\n",
       "2         5\n",
       "dtype: object"
      ]
     },
     "execution_count": 16,
     "metadata": {},
     "output_type": "execute_result"
    }
   ],
   "source": [
    "str_ser9"
   ]
  },
  {
   "cell_type": "markdown",
   "metadata": {},
   "source": [
    "Найти разность между объектом Series и смещением объекта Series на n"
   ]
  },
  {
   "cell_type": "code",
   "execution_count": 17,
   "metadata": {},
   "outputs": [
    {
     "data": {
      "text/plain": [
       "0    NaN\n",
       "1    NaN\n",
       "2    2.0\n",
       "3    2.0\n",
       "4    2.0\n",
       "5    3.0\n",
       "6    7.0\n",
       "dtype: float64"
      ]
     },
     "execution_count": 17,
     "metadata": {},
     "output_type": "execute_result"
    }
   ],
   "source": [
    "n = 2\n",
    " \n",
    "ser10 = pd.Series([1, 2, 3, 4, 5, 7, 12])\n",
    " \n",
    "ser10.diff(periods=n)\n"
   ]
  },
  {
   "cell_type": "markdown",
   "metadata": {},
   "source": [
    "Преобразовать разыне форматы строк объекта Series в дату"
   ]
  },
  {
   "cell_type": "code",
   "execution_count": 18,
   "metadata": {},
   "outputs": [
    {
     "data": {
      "text/plain": [
       "0   2020-11-17\n",
       "1   2019-10-16\n",
       "2   2018-09-15\n",
       "3   2017-08-14\n",
       "4   2016-07-13\n",
       "dtype: datetime64[ns]"
      ]
     },
     "execution_count": 18,
     "metadata": {},
     "output_type": "execute_result"
    }
   ],
   "source": [
    "ser11 = pd.Series(['2020/11/17', '2019-10-16', '15.09.18', '14 Aug 2017', '20160713'])\n",
    " \n",
    "pd.to_datetime(ser11)"
   ]
  },
  {
   "cell_type": "markdown",
   "metadata": {},
   "source": [
    "Поскольку работа с датой часто встречается в работе, то см. еще один пример\n",
    "все данные должны иметь одинаковый формат (часто бывает выгрузка из SQL)"
   ]
  },
  {
   "cell_type": "code",
   "execution_count": 19,
   "metadata": {},
   "outputs": [],
   "source": [
    "ser12 = pd.Series(['17.11.20', '16.10.19', '15.09.18', '14.08.17', '13.07.16'])"
   ]
  },
  {
   "cell_type": "markdown",
   "metadata": {},
   "source": [
    "преобразовать в дату"
   ]
  },
  {
   "cell_type": "code",
   "execution_count": 20,
   "metadata": {},
   "outputs": [
    {
     "data": {
      "text/plain": [
       "0   2020-11-17\n",
       "1   2019-10-16\n",
       "2   2018-09-15\n",
       "3   2017-08-14\n",
       "4   2016-07-13\n",
       "dtype: datetime64[ns]"
      ]
     },
     "execution_count": 20,
     "metadata": {},
     "output_type": "execute_result"
    }
   ],
   "source": [
    "pd.to_datetime(ser12, format=\"%d.%m.%y\")"
   ]
  },
  {
   "cell_type": "markdown",
   "metadata": {},
   "source": [
    "Получить год, месяц, день, день недели, номер дня в году от объекта Series (string):<br>\n",
    "распарсить в дату и время"
   ]
  },
  {
   "cell_type": "code",
   "execution_count": 21,
   "metadata": {},
   "outputs": [],
   "source": [
    "ser11_dates = pd.to_datetime(ser11)"
   ]
  },
  {
   "cell_type": "markdown",
   "metadata": {},
   "source": [
    "получить года"
   ]
  },
  {
   "cell_type": "code",
   "execution_count": 22,
   "metadata": {},
   "outputs": [
    {
     "data": {
      "text/plain": [
       "0    2020\n",
       "1    2019\n",
       "2    2018\n",
       "3    2017\n",
       "4    2016\n",
       "dtype: int64"
      ]
     },
     "execution_count": 22,
     "metadata": {},
     "output_type": "execute_result"
    }
   ],
   "source": [
    "ser11_dates.dt.year"
   ]
  },
  {
   "cell_type": "markdown",
   "metadata": {},
   "source": [
    "получить месяца"
   ]
  },
  {
   "cell_type": "code",
   "execution_count": 23,
   "metadata": {},
   "outputs": [
    {
     "data": {
      "text/plain": [
       "0    11\n",
       "1    10\n",
       "2     9\n",
       "3     8\n",
       "4     7\n",
       "dtype: int64"
      ]
     },
     "execution_count": 23,
     "metadata": {},
     "output_type": "execute_result"
    }
   ],
   "source": [
    "ser11_dates.dt.month"
   ]
  },
  {
   "cell_type": "markdown",
   "metadata": {},
   "source": [
    "получить дни"
   ]
  },
  {
   "cell_type": "code",
   "execution_count": 24,
   "metadata": {},
   "outputs": [
    {
     "data": {
      "text/plain": [
       "0    17\n",
       "1    16\n",
       "2    15\n",
       "3    14\n",
       "4    13\n",
       "dtype: int64"
      ]
     },
     "execution_count": 24,
     "metadata": {},
     "output_type": "execute_result"
    }
   ],
   "source": [
    "ser11_dates.dt.day"
   ]
  },
  {
   "cell_type": "markdown",
   "metadata": {},
   "source": [
    "получить номер недели"
   ]
  },
  {
   "cell_type": "code",
   "execution_count": 25,
   "metadata": {},
   "outputs": [
    {
     "data": {
      "text/plain": [
       "0    47\n",
       "1    42\n",
       "2    37\n",
       "3    33\n",
       "4    28\n",
       "Name: week, dtype: UInt32"
      ]
     },
     "execution_count": 25,
     "metadata": {},
     "output_type": "execute_result"
    }
   ],
   "source": [
    "ser11_dates.dt.isocalendar().week"
   ]
  },
  {
   "cell_type": "markdown",
   "metadata": {},
   "source": [
    "получить номер дня в году"
   ]
  },
  {
   "cell_type": "code",
   "execution_count": 26,
   "metadata": {},
   "outputs": [
    {
     "data": {
      "text/plain": [
       "0    322\n",
       "1    289\n",
       "2    258\n",
       "3    226\n",
       "4    195\n",
       "dtype: int64"
      ]
     },
     "execution_count": 26,
     "metadata": {},
     "output_type": "execute_result"
    }
   ],
   "source": [
    "ser11_dates.dt.dayofyear"
   ]
  },
  {
   "cell_type": "markdown",
   "metadata": {},
   "source": [
    "Отобрать элементы объекта Series, кторые содержат не менее двух гласных"
   ]
  },
  {
   "cell_type": "code",
   "execution_count": 27,
   "metadata": {},
   "outputs": [
    {
     "data": {
      "text/plain": [
       "0     Пятая\n",
       "1      лаба\n",
       "3    питону\n",
       "7    Python\n",
       "dtype: object"
      ]
     },
     "execution_count": 27,
     "metadata": {},
     "output_type": "execute_result"
    }
   ],
   "source": [
    "import re\n",
    "\n",
    "ser13 = pd.Series(['Пятая', 'лаба', 'по', 'питону', 'Fifth', 'lab', 'on', 'Python'])\n",
    "\n",
    "ser13[ser13.map(lambda word: bool(re.match('^([^aeiouyаеёиооыэюя]*[aeiouyаеёиооыэюя]){2,}.*', word, re.I)))]"
   ]
  },
  {
   "cell_type": "markdown",
   "metadata": {},
   "source": [
    "Отобрать e-маилы из объекта Series (можно юзать регулярки)"
   ]
  },
  {
   "cell_type": "code",
   "execution_count": 28,
   "metadata": {},
   "outputs": [
    {
     "data": {
      "text/plain": [
       "2    use+%_.-r@example.com\n",
       "3             alex@text.ru\n",
       "dtype: object"
      ]
     },
     "execution_count": 28,
     "metadata": {},
     "output_type": "execute_result"
    }
   ],
   "source": [
    "ser14 = pd.Series(['wrong data', 'wrong\\\\121@ya.ru', 'use+%_.-r@example.com', 'alex@text.ru', 'wrong@email'])\n",
    "\n",
    "ser14[ser14.map(lambda email: bool(re.match('[A-Za-z0-9._%+-]+@[A-Za-z0-9.-]+\\.[A-Za-z]{2,4}', email)))]"
   ]
  },
  {
   "cell_type": "markdown",
   "metadata": {},
   "source": [
    "Получить среднее значение каждого уникального объекта Series s1 через \"маску\" другого объекта Series s2"
   ]
  },
  {
   "cell_type": "code",
   "execution_count": 29,
   "metadata": {},
   "outputs": [
    {
     "name": "stdout",
     "output_type": "stream",
     "text": [
      "0    four\n",
      "1     two\n",
      "2     two\n",
      "3    five\n",
      "4    five\n",
      "5    four\n",
      "6    four\n",
      "dtype: object\n",
      "0    4\n",
      "1    1\n",
      "2    4\n",
      "3    2\n",
      "4    1\n",
      "5    2\n",
      "6    1\n",
      "dtype: int32\n"
     ]
    },
    {
     "data": {
      "text/plain": [
       "five    1.500000\n",
       "four    2.333333\n",
       "two     2.500000\n",
       "dtype: float64"
      ]
     },
     "execution_count": 29,
     "metadata": {},
     "output_type": "execute_result"
    }
   ],
   "source": [
    "n = 7\n",
    "ser15 = pd.Series(np.random.choice(['one', 'two', 'three', 'four', 'five'], n))\n",
    "ser16 = pd.Series(np.random.randint(1,5,n))\n",
    "print(ser15)\n",
    "print(ser16)\n",
    "ser16.groupby(ser15).mean()"
   ]
  }
 ],
 "metadata": {
  "kernelspec": {
   "display_name": "Python 3.8.2 32-bit",
   "language": "python",
   "name": "python38232bit5556f457f0364e5c80460ca2153dfc18"
  },
  "language_info": {
   "codemirror_mode": {
    "name": "ipython",
    "version": 3
   },
   "file_extension": ".py",
   "mimetype": "text/x-python",
   "name": "python",
   "nbconvert_exporter": "python",
   "pygments_lexer": "ipython3",
   "version": "3.8.2"
  }
 },
 "nbformat": 4,
 "nbformat_minor": 4
}
