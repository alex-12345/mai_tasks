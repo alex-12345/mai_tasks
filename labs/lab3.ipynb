{
 "cells": [
  {
   "cell_type": "markdown",
   "metadata": {},
   "source": [
    "# Лабораторная работа 3 #"
   ]
  },
  {
   "cell_type": "markdown",
   "metadata": {},
   "source": [
    "Дан вектор [1, 2, 3, 4, 5], построить новый вектор с тремя нулями между каждым значением"
   ]
  },
  {
   "cell_type": "code",
   "execution_count": 1,
   "metadata": {},
   "outputs": [
    {
     "name": "stdout",
     "output_type": "stream",
     "text": [
      "[1. 0. 0. 0. 2. 0. 0. 0. 3. 0. 0. 0. 4. 0. 0. 0. 5.]\n"
     ]
    }
   ],
   "source": [
    "import numpy as np\n",
    "\n",
    "arr1 = np.array([1,2,3,4,5])\n",
    "arr2 = np.zeros(len(arr1) + (len(arr1)-1)*(3))\n",
    "arr2[::4] = arr1\n",
    "print(arr2)"
   ]
  },
  {
   "cell_type": "markdown",
   "metadata": {},
   "source": [
    "Поменять 2 строки в матрице"
   ]
  },
  {
   "cell_type": "code",
   "execution_count": 2,
   "metadata": {},
   "outputs": [
    {
     "name": "stdout",
     "output_type": "stream",
     "text": [
      "[[ 5  6  7  8  9]\n",
      " [ 0  1  2  3  4]\n",
      " [10 11 12 13 14]\n",
      " [15 16 17 18 19]\n",
      " [20 21 22 23 24]]\n"
     ]
    }
   ],
   "source": [
    "arr3 = np.arange(25).reshape(5,5)\n",
    "arr3[[0,1]] = arr3[[1,0]]\n",
    "print(arr3)"
   ]
  },
  {
   "cell_type": "markdown",
   "metadata": {},
   "source": [
    "Рассмотрим набор из 10 троек, описывающих 10 треугольников (с общими вершинами), найти множество уникальных отрезков, составляющих все треугольники"
   ]
  },
  {
   "cell_type": "code",
   "execution_count": 3,
   "metadata": {},
   "outputs": [
    {
     "name": "stdout",
     "output_type": "stream",
     "text": [
      "[[68  4 97]\n",
      " [59 99 37]\n",
      " [91 45 52]\n",
      " [81 69 83]\n",
      " [64 85 22]\n",
      " [58 57 85]\n",
      " [38 54 58]\n",
      " [93  2 87]\n",
      " [35 14 37]\n",
      " [44 53 46]]\n",
      "[( 2, 87) ( 2, 93) ( 4, 68) ( 4, 97) (14, 35) (14, 37) (22, 64) (22, 85)\n",
      " (35, 37) (37, 59) (37, 99) (38, 54) (38, 58) (44, 46) (44, 53) (45, 52)\n",
      " (45, 91) (46, 53) (52, 91) (54, 58) (57, 58) (57, 85) (58, 85) (59, 99)\n",
      " (64, 85) (68, 97) (69, 81) (69, 83) (81, 83) (87, 93)]\n"
     ]
    }
   ],
   "source": [
    "triangles = np.random.randint(0,100,(10,3))\n",
    "print(triangles)\n",
    "#повторяем дважды каждый элемент массива и сдвигаем влево на 1\n",
    "temp = np.roll(triangles.repeat(2,axis=1),-1,axis=1)\n",
    "pairs = temp.reshape(len(temp)*3,2)\n",
    "#сортируем пары точек (отрезки) от большего к меньшему\n",
    "pairs = np.sort(pairs,axis=1)\n",
    "pairs = pairs.view( dtype=[('x0',pairs.dtype),('x1',pairs.dtype)] )\n",
    "pairs = np.unique(pairs)\n",
    "print(pairs)"
   ]
  },
  {
   "cell_type": "markdown",
   "metadata": {},
   "source": [
    "Дан массив C; создать массив A, что np.bincount(A) == C"
   ]
  },
  {
   "cell_type": "code",
   "execution_count": 4,
   "metadata": {},
   "outputs": [
    {
     "name": "stdout",
     "output_type": "stream",
     "text": [
      "[1 1 2 3 4 4 6]\n"
     ]
    }
   ],
   "source": [
    "C = np.bincount([1,1,2,3,4,4,6])\n",
    "A = np.repeat(np.arange(len(C)), C)\n",
    "print(A)"
   ]
  },
  {
   "cell_type": "markdown",
   "metadata": {},
   "source": [
    "Посчитать среднее, используя плавающее окно(скользящее среднее)"
   ]
  },
  {
   "cell_type": "code",
   "execution_count": 5,
   "metadata": {},
   "outputs": [
    {
     "name": "stdout",
     "output_type": "stream",
     "text": [
      "[ 0.5  1.5  2.5  3.5  4.5  5.5  6.5  7.5  8.5  9.5 10.5 11.5 12.5 13.5\n",
      " 14.5 15.5 16.5 17.5 18.5]\n"
     ]
    }
   ],
   "source": [
    "arr4 = np.arange(20)\n",
    "width = 2\n",
    "arr5 = np.cumsum(arr4, dtype=float)\n",
    "arr5[width:] = arr5[width:] - arr5[:-width]\n",
    "result = arr5[width-1:] / width\n",
    "print(result)"
   ]
  },
  {
   "cell_type": "markdown",
   "metadata": {},
   "source": [
    "Дан вектор Z, построить матрицу, первая строка которой (Z[0],Z[1],Z[2]), каждая последующая сдвинута на 1 (последняя (Z[-3],Z[-2],Z[-1]))"
   ]
  },
  {
   "cell_type": "code",
   "execution_count": 6,
   "metadata": {},
   "outputs": [
    {
     "name": "stdout",
     "output_type": "stream",
     "text": [
      "[[ 0  1  2]\n",
      " [ 1  2  3]\n",
      " [ 2  3  4]\n",
      " [ 3  4  5]\n",
      " [ 4  5  6]\n",
      " [ 5  6  7]\n",
      " [ 6  7  8]\n",
      " [ 7  8  9]\n",
      " [ 8  9 10]\n",
      " [ 9 10 11]\n",
      " [10 11 12]]\n"
     ]
    }
   ],
   "source": [
    "from numpy.lib import stride_tricks\n",
    "\n",
    "Z = np.arange(13)\n",
    "width = 3\n",
    "arr6 = stride_tricks.as_strided(Z, shape=(Z.size - width + 1, width), strides=(4, 4));\n",
    "print(arr6)"
   ]
  },
  {
   "cell_type": "markdown",
   "metadata": {},
   "source": [
    "Инвертировать булево значение, или поменять знак у числового массива без создания нового"
   ]
  },
  {
   "cell_type": "code",
   "execution_count": 7,
   "metadata": {},
   "outputs": [
    {
     "name": "stdout",
     "output_type": "stream",
     "text": [
      "[0 0 0 0 1 0 1 0 1 0 0 1 0 0 0 0 0 1 0 0]\n",
      "[1 1 1 1 0 1 0 1 0 1 1 0 1 1 1 1 1 0 1 1]\n"
     ]
    }
   ],
   "source": [
    "arr7 = np.random.randint(0,2,20)\n",
    "print(arr7)\n",
    "np.logical_not(arr7, out=arr7)\n",
    "print(arr7)"
   ]
  },
  {
   "cell_type": "markdown",
   "metadata": {},
   "source": [
    "Посчитать ранг матрицы"
   ]
  },
  {
   "cell_type": "code",
   "execution_count": 8,
   "metadata": {},
   "outputs": [
    {
     "name": "stdout",
     "output_type": "stream",
     "text": [
      "[[0 1 0 0]\n",
      " [0 0 0 0]\n",
      " [0 0 0 1]\n",
      " [0 1 1 1]]\n",
      "3\n"
     ]
    }
   ],
   "source": [
    "arr8 = np.random.randint(0,2,(4,4))\n",
    "print(arr8)\n",
    "rank = np.linalg.matrix_rank(arr8)\n",
    "print(rank)"
   ]
  },
  {
   "cell_type": "markdown",
   "metadata": {},
   "source": [
    "Найти наиболее частое значение в массиве"
   ]
  },
  {
   "cell_type": "code",
   "execution_count": 9,
   "metadata": {},
   "outputs": [
    {
     "name": "stdout",
     "output_type": "stream",
     "text": [
      "[1 0 7 2 0 0 7 3 2 9 1 9 2 9 9 2 9 4 0 1 7 8 9 5 1 6 0 3 3 5 7 1 2 1 7 7 4\n",
      " 1 7 3 9 4 3 9 4 5 3 6 8 6]\n",
      "9\n"
     ]
    }
   ],
   "source": [
    "arr9 = np.random.randint(0,10,50)\n",
    "print(arr9)\n",
    "print(np.bincount(arr9).argmax())"
   ]
  },
  {
   "cell_type": "markdown",
   "metadata": {},
   "source": [
    "Извлечь все смежные 3x3 блоки из 10x10 матрицы"
   ]
  },
  {
   "cell_type": "code",
   "execution_count": 10,
   "metadata": {},
   "outputs": [
    {
     "name": "stdout",
     "output_type": "stream",
     "text": [
      "[[1 0 0 0]\n",
      " [3 0 2 1]\n",
      " [4 0 0 2]\n",
      " [4 1 2 4]]\n",
      "[[[[1 0 0]\n",
      "   [3 0 2]\n",
      "   [4 0 0]]\n",
      "\n",
      "  [[0 0 0]\n",
      "   [0 2 1]\n",
      "   [0 0 2]]]\n",
      "\n",
      "\n",
      " [[[3 0 2]\n",
      "   [4 0 0]\n",
      "   [4 1 2]]\n",
      "\n",
      "  [[0 2 1]\n",
      "   [0 0 2]\n",
      "   [1 2 4]]]]\n"
     ]
    }
   ],
   "source": [
    "arr10 = np.random.randint(0,5,(4,4))\n",
    "dim = 3\n",
    "\n",
    "arr11 = stride_tricks.as_strided(\n",
    "    arr10, \n",
    "    shape=(arr10.shape[0] - dim + 1, arr10.shape[1] - dim + 1, dim, dim), \n",
    "    strides=arr10.strides + arr10.strides\n",
    ")\n",
    "print(arr10)\n",
    "print(arr11)"
   ]
  },
  {
   "cell_type": "markdown",
   "metadata": {},
   "source": [
    "Рассмотрим множество матриц (n,n) и множество из p векторов (n,1). Посчитать сумму p произведений матриц (результат имеет размерность (n,1))"
   ]
  },
  {
   "cell_type": "code",
   "execution_count": 11,
   "metadata": {},
   "outputs": [
    {
     "name": "stdout",
     "output_type": "stream",
     "text": [
      "[50. 50. 50. 50. 50. 50. 50. 50. 50. 50.]\n"
     ]
    }
   ],
   "source": [
    "p, n = 5, 10\n",
    "arr11_matrix= np.ones((p,n,n))\n",
    "arr11_vector = np.ones((p,n,))\n",
    "print(np.einsum('ijk,ik->k', arr11_matrix, arr11_vector))"
   ]
  },
  {
   "cell_type": "markdown",
   "metadata": {},
   "source": [
    "Дан массив 16x16, посчитать сумму по блокам 4x4"
   ]
  },
  {
   "cell_type": "code",
   "execution_count": 12,
   "metadata": {},
   "outputs": [
    {
     "name": "stdout",
     "output_type": "stream",
     "text": [
      "[[16]\n",
      " [16]\n",
      " [16]\n",
      " [16]\n",
      " [16]\n",
      " [16]\n",
      " [16]\n",
      " [16]\n",
      " [16]\n",
      " [16]\n",
      " [16]\n",
      " [16]\n",
      " [16]]\n"
     ]
    }
   ],
   "source": [
    "arr12 = np.ones((16,16), dtype=np.int8)\n",
    "dim = 4\n",
    "arr12_result = np.sum(stride_tricks.as_strided(\n",
    "    arr12, \n",
    "    shape=(arr12.shape[0] - dim + 1, arr10.shape[1] - dim + 1, dim, dim), \n",
    "    strides=arr12.strides + arr10.strides\n",
    "), axis = (-2,-1))\n",
    "print(arr12_result)"
   ]
  },
  {
   "cell_type": "markdown",
   "metadata": {},
   "source": [
    "Найти n наибольших значений в массиве"
   ]
  },
  {
   "cell_type": "code",
   "execution_count": 13,
   "metadata": {},
   "outputs": [
    {
     "name": "stdout",
     "output_type": "stream",
     "text": [
      "[95 93 98 93 96]\n"
     ]
    }
   ],
   "source": [
    "n = 5\n",
    "arr13 = np.random.randint(0,100,100)\n",
    "print (arr13[np.argpartition(-arr13, n)][:n])"
   ]
  },
  {
   "cell_type": "markdown",
   "metadata": {},
   "source": [
    "Построить прямое произведение массивов (все комбинации с каждым элементом)"
   ]
  },
  {
   "cell_type": "code",
   "execution_count": 14,
   "metadata": {},
   "outputs": [
    {
     "name": "stdout",
     "output_type": "stream",
     "text": [
      "[[ 1  4  6  1]\n",
      " [ 1  4  7  1]\n",
      " [ 1  5  6  1]\n",
      " [ 1  5  7  1]\n",
      " [ 2  4  6  1]\n",
      " [ 2  4  7  1]\n",
      " [ 2  5  6  1]\n",
      " [ 2  5  7  1]\n",
      " [ 3  4  6  1]\n",
      " [ 3  4  7  1]\n",
      " [ 3  5  6  1]\n",
      " [ 3  5  7  1]\n",
      " [21  4  6  1]\n",
      " [21  4  7  1]\n",
      " [21  5  6  1]\n",
      " [21  5  7  1]]\n"
     ]
    }
   ],
   "source": [
    "arrays = [1, 2, 3, 21], [4, 5], [6, 7], [1]\n",
    "\n",
    "arrays = [np.asarray(a) for a in arrays]\n",
    "grid = np.indices(map(len, arrays), dtype=int)\n",
    "grid = grid.reshape(len(arrays), -1).T\n",
    "\n",
    "for n, arr in enumerate(arrays):\n",
    "    grid[:, n] = arrays[n][grid[:, n]]\n",
    "        \n",
    "print(grid)\n"
   ]
  },
  {
   "cell_type": "markdown",
   "metadata": {},
   "source": [
    "Даны 2 массива A (8x3) и B (2x2). Найти строки в A, которые содержат элементы из каждой строки в B, независимо от порядка элементов в B"
   ]
  },
  {
   "cell_type": "code",
   "execution_count": 15,
   "metadata": {},
   "outputs": [
    {
     "name": "stdout",
     "output_type": "stream",
     "text": [
      "[[0 4 0]\n",
      " [4 0 1]\n",
      " [0 0 0]\n",
      " [3 0 0]\n",
      " [3 3 2]\n",
      " [0 3 3]\n",
      " [0 1 0]\n",
      " [1 3 1]]\n",
      "[[1 0]\n",
      " [4 2]]\n",
      "[[0 4 0]\n",
      " [4 0 1]]\n"
     ]
    }
   ],
   "source": [
    "A = np.random.randint(0,5,(8,3))\n",
    "B = np.random.randint(0,5,(2,2))\n",
    "print(A)\n",
    "print(B)\n",
    "\n",
    "rows = np.argwhere(np.prod(np.sum((A[..., np.newaxis, np.newaxis] == B), dtype=bool, axis=(-3,-1)), dtype=bool, axis=-1) == True)\n",
    "rows = rows.reshape((rows.shape[0],))\n",
    "print(A[rows])"
   ]
  },
  {
   "cell_type": "markdown",
   "metadata": {},
   "source": [
    "Дана 10x3 матрица, найти строки из неравных значений (например [2,2,3])"
   ]
  },
  {
   "cell_type": "code",
   "execution_count": 16,
   "metadata": {},
   "outputs": [
    {
     "name": "stdout",
     "output_type": "stream",
     "text": [
      "[[0 0 1]\n",
      " [1 0 2]\n",
      " [2 0 1]\n",
      " [1 2 2]\n",
      " [1 0 0]\n",
      " [1 2 2]\n",
      " [1 1 1]\n",
      " [0 2 2]\n",
      " [0 2 0]\n",
      " [0 0 0]]\n",
      "[[0 0 1]\n",
      " [1 0 2]\n",
      " [2 0 1]\n",
      " [1 2 2]\n",
      " [1 0 0]\n",
      " [1 2 2]\n",
      " [0 2 2]\n",
      " [0 2 0]]\n"
     ]
    }
   ],
   "source": [
    "arr21 = np.random.randint(0,3,(10,3))\n",
    "print(arr21)\n",
    "result = arr21[~np.logical_and.reduce(arr21[:,1:] == arr21[:,:-1], axis=1)]\n",
    "print(result)"
   ]
  },
  {
   "cell_type": "markdown",
   "metadata": {},
   "source": [
    "Преобразовать вектор чисел в матрицу бинарных представлений"
   ]
  },
  {
   "cell_type": "code",
   "execution_count": 17,
   "metadata": {},
   "outputs": [
    {
     "name": "stdout",
     "output_type": "stream",
     "text": [
      "[7 9 0 9 5 6 5 4]\n",
      "[[0 0 0 0 0 1 1 1]\n",
      " [0 0 0 0 1 0 0 1]\n",
      " [0 0 0 0 0 0 0 0]\n",
      " [0 0 0 0 1 0 0 1]\n",
      " [0 0 0 0 0 1 0 1]\n",
      " [0 0 0 0 0 1 1 0]\n",
      " [0 0 0 0 0 1 0 1]\n",
      " [0 0 0 0 0 1 0 0]]\n"
     ]
    }
   ],
   "source": [
    "arr22 = np.random.randint(0,10, 8, dtype=np.uint8)\n",
    "print(arr22)\n",
    "print(np.unpackbits(arr22[..., np.newaxis], axis=1))"
   ]
  },
  {
   "cell_type": "markdown",
   "metadata": {},
   "source": [
    "Дан двумерный массив. Найти все различные строки"
   ]
  },
  {
   "cell_type": "code",
   "execution_count": 18,
   "metadata": {},
   "outputs": [
    {
     "name": "stdout",
     "output_type": "stream",
     "text": [
      "[[0 0 0]\n",
      " [1 0 0]\n",
      " [0 1 1]\n",
      " [0 1 0]\n",
      " [1 0 0]\n",
      " [0 0 0]\n",
      " [1 1 1]\n",
      " [0 1 0]]\n",
      "[[0 0 0]\n",
      " [0 1 0]\n",
      " [0 1 1]\n",
      " [1 0 0]\n",
      " [1 1 1]]\n"
     ]
    }
   ],
   "source": [
    "arr23 = np.random.randint(0, 2, (8,3))\n",
    "print(arr23)\n",
    "print(np.unique(arr23,axis=0))"
   ]
  },
  {
   "cell_type": "markdown",
   "metadata": {},
   "source": [
    "Даны векторы A и B, написать einsum эквиваленты функций inner, outer, sum и mul"
   ]
  },
  {
   "cell_type": "code",
   "execution_count": 19,
   "metadata": {},
   "outputs": [
    {
     "name": "stdout",
     "output_type": "stream",
     "text": [
      "[9 8 1 4 6]\n",
      "[9 9 7 2 9]\n",
      "sum\n",
      "28\n",
      "28\n",
      "mul\n",
      "[81 72  7  8 54]\n",
      "[81 72  7  8 54]\n",
      "inner\n",
      "222\n",
      "222\n",
      "outer\n",
      "[[81 81 63 18 81]\n",
      " [72 72 56 16 72]\n",
      " [ 9  9  7  2  9]\n",
      " [36 36 28  8 36]\n",
      " [54 54 42 12 54]]\n",
      "[[81 81 63 18 81]\n",
      " [72 72 56 16 72]\n",
      " [ 9  9  7  2  9]\n",
      " [36 36 28  8 36]\n",
      " [54 54 42 12 54]]\n"
     ]
    }
   ],
   "source": [
    "arr24 = np.random.randint(0, 10, 5)\n",
    "arr25 = np.random.randint(0, 10, 5)\n",
    "\n",
    "print(arr24)\n",
    "print(arr25)\n",
    "print(\"sum\", end=\"\\n\")\n",
    "print(np.einsum('i->', arr24))\n",
    "print(np.sum(arr24))\n",
    "print(\"mul\", end=\"\\n\")       \n",
    "print(np.einsum('i,i->i', arr24, arr25))\n",
    "print(np.multiply(arr24, arr25))\n",
    "print(\"inner\", end=\"\\n\")        \n",
    "print(np.einsum('i,i->', arr24, arr25)) \n",
    "print(np.inner(arr24, arr25))\n",
    "print(\"outer\", end=\"\\n\")      \n",
    "print(np.einsum('i,j->ij', arr24, arr25)) \n",
    "print(np.outer(arr24, arr25))   "
   ]
  },
  {
   "cell_type": "code",
   "execution_count": null,
   "metadata": {},
   "outputs": [],
   "source": []
  }
 ],
 "metadata": {
  "kernelspec": {
   "display_name": "Python 3.8.2 32-bit",
   "language": "python",
   "name": "python38232bit5556f457f0364e5c80460ca2153dfc18"
  },
  "language_info": {
   "codemirror_mode": {
    "name": "ipython",
    "version": 3
   },
   "file_extension": ".py",
   "mimetype": "text/x-python",
   "name": "python",
   "nbconvert_exporter": "python",
   "pygments_lexer": "ipython3",
   "version": "3.8.2"
  }
 },
 "nbformat": 4,
 "nbformat_minor": 4
}
