{
 "cells": [
  {
   "cell_type": "markdown",
   "metadata": {},
   "source": [
    "---\n",
    "                                            Московский Авиационный Институт  \n",
    "                                      (Национальный Исследовательский Университет)  \n",
    "        \n",
    "                \n",
    "                \n",
    "    Кафедра 806 «Вычислительная математика и программирование»  \n",
    "    Институт: «Информационные технологии и прикладная математика»  \n",
    "    Дисциплина: «Разработка ПО для высокопроизводительных систем»        \n",
    "                \n",
    "\n",
    "\n",
    "                                            -------------------------------\n",
    "                                            Лабораторная работа по Pandas №3  \n",
    "                                            -------------------------------    \n",
    "                                            \n",
    "                                            \n",
    "                                            \n",
    "                                                                                Группа: М8О-103М-20  \n",
    "                                                                                Студент: Винников Алексей Владимирович  \n",
    "                                                                                Преподаватель: Поповкин Александр Викторович  \n",
    "                                                                                \n",
    "                                                                                \n",
    "                                                                                \n",
    "                                                     Москва, 2020  \n",
    "                                                         \n",
    "---"
   ]
  },
  {
   "cell_type": "markdown",
   "metadata": {},
   "source": [
    "Найти евклидово расстоняие между двумя объектами Series"
   ]
  },
  {
   "cell_type": "code",
   "execution_count": 1,
   "metadata": {},
   "outputs": [
    {
     "name": "stdout",
     "output_type": "stream",
     "text": [
      "[1 4 5] [2 5 9]\n"
     ]
    },
    {
     "data": {
      "text/plain": [
       "4.242640687119285"
      ]
     },
     "execution_count": 1,
     "metadata": {},
     "output_type": "execute_result"
    }
   ],
   "source": [
    "import pandas as pd\n",
    "import numpy as np\n",
    "\n",
    " \n",
    "ser1_x = pd.Series(np.random.randint(1, 10, 3))\n",
    "ser1_y = pd.Series(np.random.randint(1, 10, 3))\n",
    "\n",
    "print(ser1_x.values, ser1_y.values)\n",
    "sum((ser1_x-ser1_y)**2)**0.5"
   ]
  },
  {
   "cell_type": "markdown",
   "metadata": {},
   "source": [
    "Найти индексы локальных максимумов в объекте Series"
   ]
  },
  {
   "cell_type": "code",
   "execution_count": 2,
   "metadata": {},
   "outputs": [
    {
     "data": {
      "text/plain": [
       "array([ 4,  8, 10], dtype=int32)"
      ]
     },
     "execution_count": 2,
     "metadata": {},
     "output_type": "execute_result"
    }
   ],
   "source": [
    "ser2 = pd.Series([1, 2, 3, 4, 7, 1, 2, 3, 9, 7, 8, 1])\n",
    "\n",
    "np.where(np.diff(np.sign(np.diff(ser2))) == -2)[0]+1"
   ]
  },
  {
   "cell_type": "markdown",
   "metadata": {},
   "source": [
    " Заменить пробелы наименее часто встречающимся символов"
   ]
  },
  {
   "cell_type": "code",
   "execution_count": 3,
   "metadata": {},
   "outputs": [
    {
     "name": "stdout",
     "output_type": "stream",
     "text": [
      "     3\n",
      "а    3\n",
      "о    2\n",
      "п    2\n",
      "т    2\n",
      "б    1\n",
      "е    1\n",
      "у    1\n",
      "и    1\n",
      "л    1\n",
      "ш    1\n",
      "с    1\n",
      "я    1\n",
      "н    1\n",
      "dtype: int64\n"
     ]
    },
    {
     "data": {
      "text/plain": [
       "'шестаянлабанпонпитону'"
      ]
     },
     "execution_count": 3,
     "metadata": {},
     "output_type": "execute_result"
    }
   ],
   "source": [
    "ser3 = pd.Series(list('шестая лаба по питону'))\n",
    "freq = ser3.value_counts()\n",
    "print(freq)\n",
    "''.join(ser3.replace(' ', freq.index[-1]))"
   ]
  },
  {
   "cell_type": "markdown",
   "metadata": {},
   "source": [
    "Создать объект Series, который содержит в индексах даты выходных дней субботы, а в значениях случайные числа от 1 до 10"
   ]
  },
  {
   "cell_type": "code",
   "execution_count": 4,
   "metadata": {},
   "outputs": [
    {
     "data": {
      "text/plain": [
       "2020-11-07    1\n",
       "2020-11-14    9\n",
       "2020-11-21    6\n",
       "2020-11-28    6\n",
       "2020-12-05    1\n",
       "2020-12-12    7\n",
       "2020-12-19    5\n",
       "2020-12-26    2\n",
       "2021-01-02    7\n",
       "2021-01-09    3\n",
       "Freq: W-SAT, dtype: int32"
      ]
     },
     "execution_count": 4,
     "metadata": {},
     "output_type": "execute_result"
    }
   ],
   "source": [
    "pd.Series(np.random.randint(1,10,10), pd.date_range('2020-11-01', periods=10, freq='W-SAT'))"
   ]
  },
  {
   "cell_type": "markdown",
   "metadata": {},
   "source": [
    "Заполнить пропущенные даты, значением выше (заполненной даты)"
   ]
  },
  {
   "cell_type": "code",
   "execution_count": 5,
   "metadata": {},
   "outputs": [
    {
     "data": {
      "text/plain": [
       "2020-11-11    3\n",
       "2020-11-12    3\n",
       "2020-11-13    3\n",
       "2020-11-14    7\n",
       "2020-11-15    7\n",
       "2020-11-16    8\n",
       "2020-11-17    8\n",
       "2020-11-18    4\n",
       "Freq: D, dtype: int32"
      ]
     },
     "execution_count": 5,
     "metadata": {},
     "output_type": "execute_result"
    }
   ],
   "source": [
    "pd.Series(np.random.randint(1,10,4), index=pd.to_datetime(['2020-11-11', '2020-11-14', '2020-11-16', '2020-11-18'])).resample('D').ffill()\n"
   ]
  },
  {
   "cell_type": "markdown",
   "metadata": {},
   "source": [
    "Вычислить автокорреляцию объекта Series"
   ]
  },
  {
   "cell_type": "code",
   "execution_count": 6,
   "metadata": {},
   "outputs": [
    {
     "data": {
      "text/plain": [
       "[1.0,\n",
       " 0.6404565495581384,\n",
       " -0.05324269242527847,\n",
       " -0.6767609285540901,\n",
       " -0.9962811175585647,\n",
       " -0.6528190994585757,\n",
       " 0.02750066603982108,\n",
       " 0.6610414275008191,\n",
       " 0.9964784976080532,\n",
       " 0.6581988093520469,\n",
       " -0.12528580798376646,\n",
       " -0.8047241302840797,\n",
       " -0.9983814394570298,\n",
       " -0.9979487157886733,\n",
       " -0.9999999999999999]"
      ]
     },
     "execution_count": 6,
     "metadata": {},
     "output_type": "execute_result"
    }
   ],
   "source": [
    "ser4=pd.Series([4,0,-4,-8, -4, 0, 4, 8, 4, 0,-3, -8, -4, 0, 4, 9])\n",
    "[ser4.autocorr(lag=i) for i in range(len(ser4)-1)]"
   ]
  }
 ],
 "metadata": {
  "kernelspec": {
   "display_name": "Python 3.8.2 32-bit",
   "language": "python",
   "name": "python38232bit5556f457f0364e5c80460ca2153dfc18"
  },
  "language_info": {
   "codemirror_mode": {
    "name": "ipython",
    "version": 3
   },
   "file_extension": ".py",
   "mimetype": "text/x-python",
   "name": "python",
   "nbconvert_exporter": "python",
   "pygments_lexer": "ipython3",
   "version": "3.8.2"
  }
 },
 "nbformat": 4,
 "nbformat_minor": 4
}
